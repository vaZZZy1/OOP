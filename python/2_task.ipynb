{
 "cells": [
  {
   "cell_type": "markdown",
   "id": "246424fe",
   "metadata": {},
   "source": [
    "# Самостоятельная работа #2\n",
    "### Задание 1\n",
    "\n",
    "Допишите функцию, которая принимает 2 числа, сравнивает между собой и возвращает наименьшее."
   ]
  },
  {
   "cell_type": "code",
   "execution_count": 2,
   "id": "1b225d18",
   "metadata": {},
   "outputs": [],
   "source": [
    "def min(a, b):\n",
    "    return min(a, b)"
   ]
  },
  {
   "cell_type": "markdown",
   "id": "9342d85f",
   "metadata": {},
   "source": [
    "### Задание 2\n",
    "\n",
    "Допишите функцию, которая принимает 3 числа, сравнивает между собой и возвращает наименьшее."
   ]
  },
  {
   "cell_type": "code",
   "execution_count": 3,
   "id": "5371aa95",
   "metadata": {},
   "outputs": [],
   "source": [
    "def min3(a, b, c):\n",
    "    return min(a,min(b,c))"
   ]
  },
  {
   "cell_type": "markdown",
   "id": "9ef85dfd",
   "metadata": {},
   "source": [
    "### Задание 3\n",
    "\n",
    "Допишите функцию, которая принимает 3 числа, сравнивает между собой и возвращает количество совпадающих чисел. Соответственно, программа может возвращать одно из трех чисел: 3 - если совпадают все, 2 - если совпадают 2 числа, 0 - если все числа различны."
   ]
  },
  {
   "cell_type": "code",
   "execution_count": 1,
   "id": "ec6a169c",
   "metadata": {},
   "outputs": [],
   "source": [
    "def wut(a, b, c):\n",
    "    ans = 0\n",
    "    if a == b:\n",
    "        ans+=2\n",
    "    if b == c:\n",
    "        ans+=2\n",
    "    if a == c:\n",
    "        ans+=2\n",
    "    return min(3, ans)"
   ]
  }
 ],
 "metadata": {
  "kernelspec": {
   "display_name": "Python 3.9.7 64-bit",
   "language": "python",
   "name": "python3"
  },
  "language_info": {
   "codemirror_mode": {
    "name": "ipython",
    "version": 3
   },
   "file_extension": ".py",
   "mimetype": "text/x-python",
   "name": "python",
   "nbconvert_exporter": "python",
   "pygments_lexer": "ipython3",
   "version": "3.9.7"
  },
  "vscode": {
   "interpreter": {
    "hash": "19b3f38be6430c8d330e4f7a50aa93d88ec40f13a39b7a06359178ce60ee203f"
   }
  }
 },
 "nbformat": 4,
 "nbformat_minor": 5
}

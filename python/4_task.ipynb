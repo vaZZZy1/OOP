{
 "cells": [
  {
   "cell_type": "markdown",
   "id": "515e798f",
   "metadata": {},
   "source": [
    "# Самостоятельное задание #4\n",
    "\n",
    "\n",
    "Дана строка: Lambdadambda\n",
    "    \n",
    "**Вывести третий символ этой строки.**"
   ]
  },
  {
   "cell_type": "code",
   "execution_count": 2,
   "id": "6fb0097c",
   "metadata": {},
   "outputs": [],
   "source": [
    "row = \"Lambdadambda\""
   ]
  },
  {
   "cell_type": "code",
   "execution_count": 4,
   "id": "7e563ce5",
   "metadata": {},
   "outputs": [
    {
     "name": "stdout",
     "output_type": "stream",
     "text": [
      "m\n"
     ]
    }
   ],
   "source": [
    "row = \"Lambdadambda\"\n",
    "print(row[2])"
   ]
  },
  {
   "cell_type": "markdown",
   "id": "ea010c5d",
   "metadata": {},
   "source": [
    "**Вывести предпоследний символ этой строки.**"
   ]
  },
  {
   "cell_type": "code",
   "execution_count": 5,
   "id": "31b0d3ed",
   "metadata": {},
   "outputs": [
    {
     "name": "stdout",
     "output_type": "stream",
     "text": [
      "d\n"
     ]
    }
   ],
   "source": [
    "row = \"Lambdadambda\"\n",
    "print(row[-2])"
   ]
  },
  {
   "cell_type": "markdown",
   "id": "e4e84e54",
   "metadata": {},
   "source": [
    "**Вывести первые пять символов этой строки.**"
   ]
  },
  {
   "cell_type": "code",
   "execution_count": 8,
   "id": "7e311943",
   "metadata": {},
   "outputs": [
    {
     "name": "stdout",
     "output_type": "stream",
     "text": [
      "Lambd\n"
     ]
    }
   ],
   "source": [
    "row = \"Lambdadambda\"\n",
    "print(row[0:5])"
   ]
  },
  {
   "cell_type": "markdown",
   "id": "f6a3ba9c",
   "metadata": {},
   "source": [
    "**Вывести строку, кроме последних двух символов.**"
   ]
  },
  {
   "cell_type": "code",
   "execution_count": 9,
   "id": "e73c0b48",
   "metadata": {},
   "outputs": [
    {
     "data": {
      "text/plain": [
       "'Lambdadamb'"
      ]
     },
     "execution_count": 9,
     "metadata": {},
     "output_type": "execute_result"
    }
   ],
   "source": [
    "row = \"Lambdadambda\"\n",
    "row[0:len(row)-2]"
   ]
  },
  {
   "cell_type": "markdown",
   "id": "0a4dfd22",
   "metadata": {},
   "source": [
    "**Вывести все символы с четными индексами (считайте, что 0 - четный индекс).**"
   ]
  },
  {
   "cell_type": "code",
   "execution_count": 11,
   "id": "c2562333",
   "metadata": {},
   "outputs": [
    {
     "data": {
      "text/plain": [
       "'Lmddmd'"
      ]
     },
     "execution_count": 11,
     "metadata": {},
     "output_type": "execute_result"
    }
   ],
   "source": [
    "row = \"Lambdadambda\"\n",
    "row[::2]"
   ]
  },
  {
   "cell_type": "markdown",
   "id": "d692f8e4",
   "metadata": {},
   "source": [
    "**Вывести все символы с нечетными индексами.**"
   ]
  },
  {
   "cell_type": "code",
   "execution_count": 12,
   "id": "4ee4c0c7",
   "metadata": {},
   "outputs": [
    {
     "data": {
      "text/plain": [
       "'abaaba'"
      ]
     },
     "execution_count": 12,
     "metadata": {},
     "output_type": "execute_result"
    }
   ],
   "source": [
    "row = \"Lambdadambda\"\n",
    "row[1::2]"
   ]
  },
  {
   "cell_type": "markdown",
   "id": "dc19a22d",
   "metadata": {},
   "source": [
    "**Вывести все символы в обратном порядке.**"
   ]
  },
  {
   "cell_type": "code",
   "execution_count": 13,
   "id": "b791ac60",
   "metadata": {},
   "outputs": [
    {
     "data": {
      "text/plain": [
       "'adbmadadbmaL'"
      ]
     },
     "execution_count": 13,
     "metadata": {},
     "output_type": "execute_result"
    }
   ],
   "source": [
    "row[::-1]"
   ]
  },
  {
   "cell_type": "markdown",
   "id": "ddcab1ad",
   "metadata": {},
   "source": [
    "**Вывести все символы строки через один в обратном порядке, начиная с последнего.**"
   ]
  },
  {
   "cell_type": "code",
   "execution_count": 14,
   "id": "29f2787d",
   "metadata": {},
   "outputs": [
    {
     "data": {
      "text/plain": [
       "'abaaba'"
      ]
     },
     "execution_count": 14,
     "metadata": {},
     "output_type": "execute_result"
    }
   ],
   "source": [
    "row[::-2]"
   ]
  },
  {
   "cell_type": "markdown",
   "id": "1c732041",
   "metadata": {},
   "source": [
    "**Вывести длину данной строки.**"
   ]
  },
  {
   "cell_type": "code",
   "execution_count": 15,
   "id": "fd2fb86c",
   "metadata": {},
   "outputs": [
    {
     "data": {
      "text/plain": [
       "12"
      ]
     },
     "execution_count": 15,
     "metadata": {},
     "output_type": "execute_result"
    }
   ],
   "source": [
    "len(row)"
   ]
  }
 ],
 "metadata": {
  "kernelspec": {
   "display_name": "Python 3.9.7 64-bit",
   "language": "python",
   "name": "python3"
  },
  "language_info": {
   "codemirror_mode": {
    "name": "ipython",
    "version": 3
   },
   "file_extension": ".py",
   "mimetype": "text/x-python",
   "name": "python",
   "nbconvert_exporter": "python",
   "pygments_lexer": "ipython3",
   "version": "3.9.7"
  },
  "vscode": {
   "interpreter": {
    "hash": "19b3f38be6430c8d330e4f7a50aa93d88ec40f13a39b7a06359178ce60ee203f"
   }
  }
 },
 "nbformat": 4,
 "nbformat_minor": 5
}
